{
 "cells": [
  {
   "cell_type": "code",
   "execution_count": 119,
   "metadata": {},
   "outputs": [],
   "source": [
    "# Importer le module pymongo pour intéragir avec MongoDB\n",
    "\n",
    "import pymongo"
   ]
  },
  {
   "cell_type": "code",
   "execution_count": 120,
   "metadata": {},
   "outputs": [
    {
     "name": "stdout",
     "output_type": "stream",
     "text": [
      "MongoClient(host=['localhost:27017'], document_class=dict, tz_aware=False, connect=True)\n"
     ]
    }
   ],
   "source": [
    "client = pymongo.MongoClient(\"mongodb://localhost:27017/\")\n",
    "print(client)"
   ]
  },
  {
   "cell_type": "code",
   "execution_count": 121,
   "metadata": {},
   "outputs": [
    {
     "name": "stdout",
     "output_type": "stream",
     "text": [
      "connection réussi ! 10/10\n"
     ]
    }
   ],
   "source": [
    "# Connection au Mongodb CLIENT et connection sur serveur local\n",
    "\n",
    "\n",
    "    \n",
    "client = pymongo.MongoClient(\"mongodb://localhost:27017/\")\n",
    "\n",
    "    # Séléctionner ma Db pizzadb créer en amont sur le shell mongodb: mongosh\n",
    "db = client[\"marieatdb\"]\n",
    "\n",
    "    # Impression d'un message de succès de connection\n",
    "print(\"connection réussi ! 10/10\")\n"
   ]
  },
  {
   "cell_type": "code",
   "execution_count": 122,
   "metadata": {},
   "outputs": [
    {
     "name": "stdout",
     "output_type": "stream",
     "text": [
      "Documents insérés dans la collection 'menu'.\n"
     ]
    }
   ],
   "source": [
    "# 1. Insertion de plusieurs documents dans la collection 'menu'\n",
    "menu_documents = [\n",
    "    {\n",
    "        \"item_name\": \"Pizza Margherita\",\n",
    "        \"description\": \"Pizza with tomatoes, mozzarella, and basil\",\n",
    "        \"price\": 12.99,\n",
    "        \"category\": \"Main Course\",\n",
    "        \"available\": True\n",
    "    },\n",
    "    {\n",
    "        \"item_name\": \"Spaghetti Carbonara\",\n",
    "        \"description\": \"Spaghetti with pancetta and parmesan cheese\",\n",
    "        \"price\": 14.99,\n",
    "        \"category\": \"Main Course\",\n",
    "        \"available\": True\n",
    "    },\n",
    "    {\n",
    "        \"item_name\": \"Tiramisu\",\n",
    "        \"description\": \"Classic Italian dessert\",\n",
    "        \"price\": 6.99,\n",
    "        \"category\": \"Dessert\",\n",
    "        \"available\": True\n",
    "    }\n",
    "]\n",
    "\n",
    "db['menu'].insert_many(menu_documents)\n",
    "print(\"Documents insérés dans la collection 'menu'.\")"
   ]
  },
  {
   "cell_type": "code",
   "execution_count": 123,
   "metadata": {},
   "outputs": [
    {
     "name": "stdout",
     "output_type": "stream",
     "text": [
      "Documents insérés dans la collection 'restaurant'.\n"
     ]
    }
   ],
   "source": [
    "# 2. Insertion de plusieurs documents dans la collection 'restaurant'\n",
    "restaurant_documents = [\n",
    "    {\n",
    "        \"name\": \"La Tavola\",\n",
    "        \"location\": \"123 Rue de Rivoli, Paris\",\n",
    "        \"phone_number\": \"01 23 45 67 89\",\n",
    "        \"menus\": menu_documents,\n",
    "        \"hours\": {\n",
    "            \"monday\": \"9:00 AM - 10:00 PM\",\n",
    "            \"tuesday\": \"9:00 AM - 10:00 PM\",\n",
    "            \"sunday\": \"Closed\"\n",
    "        }\n",
    "    },\n",
    "    {\n",
    "        \"name\": \"Pasta Palace\",\n",
    "        \"location\": \"456 Avenue des Champs-Elysées, Paris\",\n",
    "        \"phone_number\": \"01 98 76 54 32\",\n",
    "        \"menus\": menu_documents,\n",
    "        \"hours\": {\n",
    "            \"monday\": \"8:00 AM - 9:00 PM\",\n",
    "            \"wednesday\": \"8:00 AM - 9:00 PM\",\n",
    "            \"friday\": \"8:00 AM - 11:00 PM\",\n",
    "            \"sunday\": \"Closed\"\n",
    "        }\n",
    "    }\n",
    "]\n",
    "\n",
    "db['restaurant'].insert_many(restaurant_documents)\n",
    "print(\"Documents insérés dans la collection 'restaurant'.\")"
   ]
  },
  {
   "cell_type": "code",
   "execution_count": 124,
   "metadata": {},
   "outputs": [
    {
     "name": "stdout",
     "output_type": "stream",
     "text": [
      "Documents insérés dans la collection 'customer'.\n"
     ]
    }
   ],
   "source": [
    "# 3. Insertion de plusieurs documents dans la collection 'customer'\n",
    "customer_documents = [\n",
    "    {\n",
    "        \"first_name\": \"John\",\n",
    "        \"last_name\": \"Doe\",\n",
    "        \"email\": \"john.doe@example.com\",\n",
    "        \"phone_number\": \"06 12 34 56 78\",\n",
    "        \"address\": \"123 Avenue de la Liberté, Lyon\"\n",
    "    },\n",
    "    {\n",
    "        \"first_name\": \"Jane\",\n",
    "        \"last_name\": \"Smith\",\n",
    "        \"email\": \"jane.smith@example.com\",\n",
    "        \"phone_number\": \"06 87 65 43 21\",\n",
    "        \"address\": \"456 Rue de la République, Paris\"\n",
    "    }\n",
    "]\n",
    "\n",
    "db['customer'].insert_many(customer_documents)\n",
    "print(\"Documents insérés dans la collection 'customer'.\")"
   ]
  },
  {
   "cell_type": "code",
   "execution_count": 125,
   "metadata": {},
   "outputs": [
    {
     "name": "stdout",
     "output_type": "stream",
     "text": [
      "Documents insérés dans la collection 'commandes'.\n"
     ]
    }
   ],
   "source": [
    "# 4. Insertion de plusieurs documents dans la collection 'commandes'\n",
    "commandes_documents = [\n",
    "    {\n",
    "        \"customer_id\": customer_documents[0][\"_id\"],  # Associe l'ID d'un client\n",
    "        \"restaurant_id\": restaurant_documents[0][\"_id\"],  # Associe l'ID d'un restaurant\n",
    "        \"items\": [\n",
    "            {\"item_name\": \"Pizza Margherita\", \"quantity\": 2, \"price\": 12.99},\n",
    "            {\"item_name\": \"Tiramisu\", \"quantity\": 1, \"price\": 6.99}\n",
    "        ],\n",
    "        \"total_price\": 32.97,\n",
    "        \"status\": \"Pending\",\n",
    "        \"order_date\": \"2024-10-02\"\n",
    "    },\n",
    "    {\n",
    "        \"customer_id\": customer_documents[1][\"_id\"],\n",
    "        \"restaurant_id\": restaurant_documents[1][\"_id\"],\n",
    "        \"items\": [\n",
    "            {\"item_name\": \"Spaghetti Carbonara\", \"quantity\": 1, \"price\": 14.99}\n",
    "        ],\n",
    "        \"total_price\": 14.99,\n",
    "        \"status\": \"Completed\",\n",
    "        \"order_date\": \"2024-10-01\"\n",
    "    }\n",
    "]\n",
    "\n",
    "db['commandes'].insert_many(commandes_documents)\n",
    "print(\"Documents insérés dans la collection 'commandes'.\")"
   ]
  },
  {
   "cell_type": "code",
   "execution_count": 126,
   "metadata": {},
   "outputs": [
    {
     "name": "stdout",
     "output_type": "stream",
     "text": [
      "Nouveau restaurant et menu ajoutés.\n"
     ]
    }
   ],
   "source": [
    "# Nouveau restaurant avec menu\n",
    "new_restaurant = {\n",
    "    \"name\": \"Le Gourmet\",\n",
    "    \"location\": \"789 Rue de Paris, Lyon\",\n",
    "    \"phone_number\": \"04 56 78 90 12\",\n",
    "    \"menus\": [\n",
    "        {\n",
    "            \"item_name\": \"Foie Gras\",\n",
    "            \"description\": \"Traditional French foie gras\",\n",
    "            \"price\": 25.99,\n",
    "            \"category\": \"Starter\",\n",
    "            \"available\": True\n",
    "        },\n",
    "        {\n",
    "            \"item_name\": \"Bouillabaisse\",\n",
    "            \"description\": \"Provençal fish stew\",\n",
    "            \"price\": 34.99,\n",
    "            \"category\": \"Main Course\",\n",
    "            \"available\": True\n",
    "        }\n",
    "    ],\n",
    "    \"hours\": {\n",
    "        \"monday\": \"10:00 AM - 9:00 PM\",\n",
    "        \"tuesday\": \"10:00 AM - 9:00 PM\",\n",
    "        \"sunday\": \"Closed\"\n",
    "    }\n",
    "}\n",
    "\n",
    "# Insérer le restaurant et son menu\n",
    "db['restaurant'].insert_one(new_restaurant)\n",
    "print(\"Nouveau restaurant et menu ajoutés.\")"
   ]
  },
  {
   "cell_type": "code",
   "execution_count": 127,
   "metadata": {},
   "outputs": [
    {
     "name": "stdout",
     "output_type": "stream",
     "text": [
      "Nouvelle commande ajoutée avec client et livreur attribué.\n"
     ]
    }
   ],
   "source": [
    "# Assumer que nous avons les _id du client et du livreur (trouver avec find_one par exemple)\n",
    "customer_id = db['customer'].find_one({\"first_name\": \"John\", \"last_name\": \"Doe\"})[\"_id\"]\n",
    "restaurant_id = db['restaurant'].find_one({\"name\": \"Le Gourmet\"})[\"_id\"]\n",
    "\n",
    "# Nouveau livreur\n",
    "new_livreur = {\n",
    "    \"first_name\": \"Pierre\",\n",
    "    \"last_name\": \"Martin\",\n",
    "    \"phone_number\": \"06 78 56 34 12\",\n",
    "    \"vehicle\": \"Scooter\"\n",
    "}\n",
    "\n",
    "# Insertion du livreur\n",
    "livreur_id = db['livreur'].insert_one(new_livreur).inserted_id\n",
    "\n",
    "# Nouvelle commande avec client, restaurant et livreur\n",
    "new_order = {\n",
    "    \"customer_id\": customer_id,\n",
    "    \"restaurant_id\": restaurant_id,\n",
    "    \"livreur_id\": livreur_id,  # Associer à un livreur\n",
    "    \"items\": [\n",
    "        {\"item_name\": \"Foie Gras\", \"quantity\": 1, \"price\": 25.99},\n",
    "        {\"item_name\": \"Bouillabaisse\", \"quantity\": 1, \"price\": 34.99}\n",
    "    ],\n",
    "    \"total_price\": 60.98,\n",
    "    \"status\": \"Pending\",\n",
    "    \"order_date\": \"2024-10-02\"\n",
    "}\n",
    "\n",
    "# Insérer la commande dans la collection 'commandes'\n",
    "db['commandes'].insert_one(new_order)\n",
    "print(\"Nouvelle commande ajoutée avec client et livreur attribué.\")\n"
   ]
  },
  {
   "cell_type": "code",
   "execution_count": 128,
   "metadata": {},
   "outputs": [
    {
     "name": "stdout",
     "output_type": "stream",
     "text": [
      "Prix du 'Foie Gras' mis à jour.\n"
     ]
    }
   ],
   "source": [
    "# Mise à jour du prix du plat \"Foie Gras\" dans le restaurant \"Le Gourmet\"\n",
    "db['restaurant'].update_one(\n",
    "    {\"name\": \"Le Gourmet\", \"menus.item_name\": \"Foie Gras\"},\n",
    "    {\"$set\": {\"menus.$.price\": 29.99}}  # Mise à jour du prix\n",
    ")\n",
    "\n",
    "print(\"Prix du 'Foie Gras' mis à jour.\")"
   ]
  },
  {
   "cell_type": "code",
   "execution_count": 129,
   "metadata": {},
   "outputs": [
    {
     "name": "stdout",
     "output_type": "stream",
     "text": [
      "Adresse du client mise à jour.\n"
     ]
    }
   ],
   "source": [
    "# Mise à jour de l'adresse d'un client\n",
    "db['customer'].update_one(\n",
    "    {\"first_name\": \"John\", \"last_name\": \"Doe\"},\n",
    "    {\"$set\": {\"address\": \"123 Nouvelle Avenue, Lyon\"}}\n",
    ")\n",
    "\n",
    "print(\"Adresse du client mise à jour.\")\n"
   ]
  },
  {
   "cell_type": "code",
   "execution_count": 130,
   "metadata": {},
   "outputs": [
    {
     "name": "stdout",
     "output_type": "stream",
     "text": [
      "Restaurant inactif supprimé.\n"
     ]
    }
   ],
   "source": [
    "# Suppression d'un restaurant inactif par son nom\n",
    "db['restaurant'].delete_one({\"name\": \"Le Gourmet\"})\n",
    "print(\"Restaurant inactif supprimé.\")"
   ]
  },
  {
   "cell_type": "code",
   "execution_count": 131,
   "metadata": {},
   "outputs": [
    {
     "name": "stdout",
     "output_type": "stream",
     "text": [
      "Livreur inactif supprimé.\n"
     ]
    }
   ],
   "source": [
    "# Suppression d'un livreur par son nom\n",
    "db['livreur'].delete_one({\"first_name\": \"Pierre\", \"last_name\": \"Martin\"})\n",
    "print(\"Livreur inactif supprimé.\")"
   ]
  }
 ],
 "metadata": {
  "kernelspec": {
   "display_name": "Python 3",
   "language": "python",
   "name": "python3"
  },
  "language_info": {
   "codemirror_mode": {
    "name": "ipython",
    "version": 3
   },
   "file_extension": ".py",
   "mimetype": "text/x-python",
   "name": "python",
   "nbconvert_exporter": "python",
   "pygments_lexer": "ipython3",
   "version": "3.11.9"
  }
 },
 "nbformat": 4,
 "nbformat_minor": 2
}
